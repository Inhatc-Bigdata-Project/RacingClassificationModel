<<<<<<< HEAD:.ipynb_checkpoints/final_v5_to_meanEncoding-checkpoint.ipynb
{
 "cells": [
  {
   "cell_type": "code",
   "execution_count": 5,
   "metadata": {
    "collapsed": true,
    "pycharm": {
     "name": "#%%\n"
    }
   },
   "outputs": [],
   "source": [
    "import pandas as pd\n",
    "import numpy as np\n",
    "import train as train\n",
    "from sklearn.ensemble import RandomForestClassifier\n",
    "import matplotlib.pyplot as plt\n",
    "\n",
    "df = pd.read_csv('https://raw.githubusercontent.com/Inhatc-Bigdata-Project/RacingClassificationModel/main/final_v5.csv')\n",
    "df.to_csv('final_v5.csv', encoding='utf-8-sig')\n",
    "df = pd.read_csv('final_v5.csv')\n",
    "\n"
   ]
  },
  {
   "cell_type": "code",
   "execution_count": 8,
   "metadata": {
    "pycharm": {
     "name": "#%%\n"
    }
   },
   "outputs": [
    {
     "name": "stdout",
     "output_type": "stream",
     "text": [
      "   연승 연령 산지 성별\n",
      "0   0  4  한  수\n",
      "1   0  4  한  수\n",
      "2   0  4  한  수\n",
      "3   0  4  한  수\n",
      "4   0  4  한  수\n",
      "   Unnamed: 0  idx  연승   마명        산지        성별        연령    중량  기수명  마체중  \\\n",
      "0           0    0   0  가가나  0.260997  0.288181  0.269046  54.0  정정희  528   \n",
      "1           1    1   0  가가나  0.260997  0.288181  0.269046  54.5  다비드  535   \n",
      "2           2    2   0  가가나  0.260997  0.288181  0.269046  55.5  다비드  533   \n",
      "3           3    3   0  가가나  0.260997  0.288181  0.269046  55.0  다비드  530   \n",
      "4           4    4   0  가가나  0.260997  0.288181  0.269046  55.0  다비드  536   \n",
      "\n",
      "   ...  경주마3등이내횟수  경주마3등이내확률 기수1등 기수2등  기수3등 기수총전적  기수3등이내횟수  기수3등이내확률  마체중증감  \\\n",
      "0  ...          4     0.2500   84   98   109  1556       291    0.1870      0   \n",
      "1  ...          4     0.2667   97  129   118  1412       344    0.2436      1   \n",
      "2  ...          4     0.2857   93  124   110  1348       327    0.2426      1   \n",
      "3  ...          4     0.3077   91  117   109  1312       317    0.2416      0   \n",
      "4  ...          4     0.3333   89  113   107  1277       309    0.2420      0   \n",
      "\n",
      "         money  \n",
      "0  143496000.0  \n",
      "1  143496000.0  \n",
      "2  143496000.0  \n",
      "3  143496000.0  \n",
      "4  143496000.0  \n",
      "\n",
      "[5 rows x 30 columns]\n"
     ]
    }
   ],
   "source": [
    "df['연령'] = df['연령'].str.rstrip('세')\n",
    "df['연령'].astype('float')\n",
    "df_test = df[['연승', '연령', '산지', '성별']]\n",
    "# df.astype('float')\n",
    "print(df_test.head())\n",
    "\n",
    "# target에 대한 mean\n",
    "df_test_mean = df_test.groupby(['연령', '산지', '성별'])['연승'].mean()\n",
    "df_test_mean1 = df_test.groupby('연령')['연승'].mean()\n",
    "df_test_mean2 = df_test.groupby('산지')['연승'].mean()\n",
    "df_test_mean3 = df_test.groupby('성별')['연승'].mean()\n",
    "\n",
    "# print(df_test_mean)\n",
    "# print(df_test_mean1)\n",
    "# print(df_test_mean2)\n",
    "# print(df_test_mean3)\n",
    "\n",
    "# 기존 변수에 encoded 된 값을 매핑\n",
    "df['연령'] = df['연령'].map(df_test_mean1)\n",
    "df['산지'] = df['산지'].map(df_test_mean2)\n",
    "df['성별'] = df['성별'].map(df_test_mean3)\n",
    "\n",
    "print(df.head())"
   ]
  },
  {
   "cell_type": "code",
   "execution_count": 10,
   "metadata": {
    "pycharm": {
     "name": "#%%\n"
    }
   },
   "outputs": [],
   "source": [
    "df.to_csv('final_v5.1.csv')"
   ]
  }
 ],
 "metadata": {
  "kernelspec": {
   "display_name": "Python 3 (ipykernel)",
   "language": "python",
   "name": "python3"
  },
  "language_info": {
   "codemirror_mode": {
    "name": "ipython",
    "version": 3
   },
   "file_extension": ".py",
   "mimetype": "text/x-python",
   "name": "python",
   "nbconvert_exporter": "python",
   "pygments_lexer": "ipython3",
   "version": "3.9.7"
  }
 },
 "nbformat": 4,
 "nbformat_minor": 1
}
=======
{
 "cells": [
  {
   "cell_type": "code",
   "execution_count": 5,
   "metadata": {
    "collapsed": true,
    "pycharm": {
     "name": "#%%\n"
    }
   },
   "outputs": [],
   "source": [
    "import pandas as pd\n",
    "import numpy as np\n",
    "import train as train\n",
    "from sklearn.ensemble import RandomForestClassifier\n",
    "import matplotlib.pyplot as plt\n",
    "\n",
    "df = pd.read_csv('https://raw.githubusercontent.com/Inhatc-Bigdata-Project/RacingClassificationModel/main/final_v5.csv')\n",
    "df.to_csv('final_v5.csv', encoding='utf-8-sig')\n",
    "df = pd.read_csv('final_v5.csv')\n",
    "\n"
   ]
  },
  {
   "cell_type": "code",
   "execution_count": 8,
   "outputs": [
    {
     "name": "stdout",
     "output_type": "stream",
     "text": [
      "   연승 연령 산지 성별\n",
      "0   0  4  한  수\n",
      "1   0  4  한  수\n",
      "2   0  4  한  수\n",
      "3   0  4  한  수\n",
      "4   0  4  한  수\n",
      "   Unnamed: 0  idx  연승   마명        산지        성별        연령    중량  기수명  마체중  \\\n",
      "0           0    0   0  가가나  0.260997  0.288181  0.269046  54.0  정정희  528   \n",
      "1           1    1   0  가가나  0.260997  0.288181  0.269046  54.5  다비드  535   \n",
      "2           2    2   0  가가나  0.260997  0.288181  0.269046  55.5  다비드  533   \n",
      "3           3    3   0  가가나  0.260997  0.288181  0.269046  55.0  다비드  530   \n",
      "4           4    4   0  가가나  0.260997  0.288181  0.269046  55.0  다비드  536   \n",
      "\n",
      "   ...  경주마3등이내횟수  경주마3등이내확률 기수1등 기수2등  기수3등 기수총전적  기수3등이내횟수  기수3등이내확률  마체중증감  \\\n",
      "0  ...          4     0.2500   84   98   109  1556       291    0.1870      0   \n",
      "1  ...          4     0.2667   97  129   118  1412       344    0.2436      1   \n",
      "2  ...          4     0.2857   93  124   110  1348       327    0.2426      1   \n",
      "3  ...          4     0.3077   91  117   109  1312       317    0.2416      0   \n",
      "4  ...          4     0.3333   89  113   107  1277       309    0.2420      0   \n",
      "\n",
      "         money  \n",
      "0  143496000.0  \n",
      "1  143496000.0  \n",
      "2  143496000.0  \n",
      "3  143496000.0  \n",
      "4  143496000.0  \n",
      "\n",
      "[5 rows x 30 columns]\n"
     ]
    }
   ],
   "source": [
    "df['연령'] = df['연령'].str.rstrip('세')\n",
    "df['연령'].astype('float')\n",
    "df_test = df[['연승', '연령', '산지', '성별']]\n",
    "# df.astype('float')\n",
    "print(df_test.head())\n",
    "\n",
    "# target에 대한 mean\n",
    "df_test_mean = df_test.groupby(['연령', '산지', '성별'])['연승'].mean()\n",
    "df_test_mean1 = df_test.groupby('연령')['연승'].mean()\n",
    "df_test_mean2 = df_test.groupby('산지')['연승'].mean()\n",
    "df_test_mean3 = df_test.groupby('성별')['연승'].mean()\n",
    "\n",
    "# print(df_test_mean)\n",
    "# print(df_test_mean1)\n",
    "# print(df_test_mean2)\n",
    "# print(df_test_mean3)\n",
    "\n",
    "# 기존 변수에 encoded 된 값을 매핑\n",
    "df['연령'] = df['연령'].map(df_test_mean1)\n",
    "df['산지'] = df['산지'].map(df_test_mean2)\n",
    "df['성별'] = df['성별'].map(df_test_mean3)\n",
    "\n",
    "print(df.head())"
   ],
   "metadata": {
    "collapsed": false,
    "pycharm": {
     "name": "#%%\n"
    }
   }
  },
  {
   "cell_type": "code",
   "execution_count": 10,
   "outputs": [],
   "source": [
    "df.to_csv('final_v5.1.csv', encoding='utf-8-sig')"
   ],
   "metadata": {
    "collapsed": false,
    "pycharm": {
     "name": "#%%\n"
    }
   }
  }
 ],
 "metadata": {
  "kernelspec": {
   "display_name": "Python 3",
   "language": "python",
   "name": "python3"
  },
  "language_info": {
   "codemirror_mode": {
    "name": "ipython",
    "version": 2
   },
   "file_extension": ".py",
   "mimetype": "text/x-python",
   "name": "python",
   "nbconvert_exporter": "python",
   "pygments_lexer": "ipython2",
   "version": "2.7.6"
  }
 },
 "nbformat": 4,
 "nbformat_minor": 0
}
>>>>>>> b8c41f4460fb87dafb2dea9a6964bb57956071d1:final_v5_to_meanEncoding.ipynb
