{
 "cells": [
  {
   "cell_type": "code",
   "execution_count": 56,
   "metadata": {
    "collapsed": true,
    "pycharm": {
     "name": "#%%\n"
    }
   },
   "outputs": [
    {
     "name": "stdout",
     "output_type": "stream",
     "text": [
      "   Unnamed: 0  idx  순위  마번     마명 산지 성별  연령    중량  기수명  ... 경주마총전적  경주마3등이내횟수  \\\n",
      "0           0    0  12  11    가가나  한  수  4세    54  정정희  ...     16          4   \n",
      "1           1    1   9   5    가가나  한  수  4세  54.5  다비드  ...     15          4   \n",
      "2           2    2   7   9    가가나  한  수  4세  55.5  다비드  ...     14          4   \n",
      "3           3    3   4  10    가가나  한  수  4세    55  다비드  ...     13          4   \n",
      "4           4    4   7   5    가가나  한  수  4세    55  다비드  ...     12          4   \n",
      "5           5    5   3   4    가가나  한  수  4세    55  다비드  ...     11          3   \n",
      "6           6    6   9   8    가가나  한  수  4세  55.5  다비드  ...     10          3   \n",
      "7           7    7   7   5    가가나  한  수  3세    57  김덕현  ...      9          3   \n",
      "8           8    8  11  11    가가나  한  수  3세    57  김덕현  ...      8          3   \n",
      "9           9    9  11   3  가기만고당  한  거  3세    52  이상규  ...      4          1   \n",
      "\n",
      "   경주마3등이내확률 기수1등 기수2등  기수3등 기수총전적  기수3등이내횟수  기수3등이내확률        money  \n",
      "0     0.2500   84   98   109  1556       291    0.1870  143496000.0  \n",
      "1     0.2667   97  129   118  1412       344    0.2436  143496000.0  \n",
      "2     0.2857   93  124   110  1348       327    0.2426  143496000.0  \n",
      "3     0.3077   91  117   109  1312       317    0.2416  143496000.0  \n",
      "4     0.3333   89  113   107  1277       309    0.2420  143496000.0  \n",
      "5     0.2727   89  110   103  1244       302    0.2428  143496000.0  \n",
      "6     0.3000   89  108   103  1212       300    0.2475  143496000.0  \n",
      "7     0.3333   49   38    31   360       118    0.3278  143496000.0  \n",
      "8     0.3750   48   38    29   332       115    0.3464  143496000.0  \n",
      "9     0.2500    0    1     2    34         3    0.0882  484394694.0  \n",
      "\n",
      "[10 rows x 32 columns]\n"
     ]
    }
   ],
   "source": [
    "import pandas as pd\n",
    "import numpy as np\n",
    "\n",
    "df1 = pd.read_csv('final_v3.csv')\n",
    "df1['fm_money'] = df1['father']+df1['mother']\n",
    "\n",
    "\n",
    "df1['fm_money'].replace(0, np.NaN, inplace=True)\n",
    "df1['fm_money'].fillna(df1['money'].mean(), inplace=True)\n",
    "# 결측치 28\n",
    "# df1['fm_money'].isnull().sum()\n",
    "df1['fm_money'] /= 2\n",
    "# df1.to_csv('prize_v1.csv', encoding='utf-8-sig')\n",
    "print(df1.head(10))\n"
   ]
  }
 ],
 "metadata": {
  "kernelspec": {
   "display_name": "Python 3 (ipykernel)",
   "language": "python",
   "name": "python3"
  },
  "language_info": {
   "codemirror_mode": {
    "name": "ipython",
    "version": 3
   },
   "file_extension": ".py",
   "mimetype": "text/x-python",
   "name": "python",
   "nbconvert_exporter": "python",
   "pygments_lexer": "ipython3",
   "version": "3.9.7"
  }
 },
 "nbformat": 4,
 "nbformat_minor": 1
}
